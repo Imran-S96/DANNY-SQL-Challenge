{
 "cells": [
  {
   "cell_type": "markdown",
   "id": "65e8e1ae",
   "metadata": {},
   "source": [
    "# Create new file or folder \n",
    "New-Item \"File name\"\n",
    "\n",
    "# Jump into folder \n",
    "cd path\n",
    "\n",
    "# Jump outside folder \n",
    "cd ..\n",
    "\n",
    "# Rename item or folder \n",
    "Rename-Item -Path \"OldName.txt\" -NewName \"NewName.txt\"\n",
    "\n",
    "# Delete item or folder\n",
    "Remove-Item \"Name\"\n",
    "\n"
   ]
  },
  {
   "cell_type": "markdown",
   "id": "69048f1e",
   "metadata": {},
   "source": [
    "## git \n",
    "\n",
    "git branch \n",
    "git checkout \n",
    "git branch -d \"branch\"\n",
    "git merge\n",
    "\n",
    "git add *\n",
    "git status\n",
    "git commit -m \"comment\"\n",
    "git push\n",
    "git clone repository_link"
   ]
  }
 ],
 "metadata": {
  "language_info": {
   "name": "python"
  }
 },
 "nbformat": 4,
 "nbformat_minor": 5
}
