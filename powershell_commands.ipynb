{
 "cells": [
  {
   "cell_type": "markdown",
   "id": "65e8e1ae",
   "metadata": {},
   "source": [
    "# Create new file or folder \n",
    "New-Item \"File name\"\n",
    "\n",
    "# Jump into folder \n",
    "cd path\n",
    "\n",
    "# Jump outside folder \n",
    "cd ..\n",
    "\n",
    "# Rename item or folder \n",
    "Rename-Item -Path \"OldName.txt\" -NewName \"NewName.txt\"\n",
    "\n",
    "# Delete item or folder\n",
    "Remove-Item \"Name\"\n",
    "\n"
   ]
  }
 ],
 "metadata": {
  "language_info": {
   "name": "python"
  }
 },
 "nbformat": 4,
 "nbformat_minor": 5
}
